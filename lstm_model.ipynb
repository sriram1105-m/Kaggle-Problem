{
 "cells": [
  {
   "cell_type": "code",
   "execution_count": 1,
   "metadata": {
    "colab": {
     "base_uri": "https://localhost:8080/"
    },
    "executionInfo": {
     "elapsed": 1048,
     "status": "ok",
     "timestamp": 1607440156627,
     "user": {
      "displayName": "Sriram Murali",
      "photoUrl": "",
      "userId": "12278342188158829641"
     },
     "user_tz": -330
    },
    "id": "0Llb5-8K3yi0",
    "outputId": "2ab7b3ba-83fc-446c-ffdf-ecba9e0f2f16"
   },
   "outputs": [
    {
     "name": "stdout",
     "output_type": "stream",
     "text": [
      "Tue Dec  8 15:09:17 2020       \n",
      "+-----------------------------------------------------------------------------+\n",
      "| NVIDIA-SMI 455.45.01    Driver Version: 418.67       CUDA Version: 10.1     |\n",
      "|-------------------------------+----------------------+----------------------+\n",
      "| GPU  Name        Persistence-M| Bus-Id        Disp.A | Volatile Uncorr. ECC |\n",
      "| Fan  Temp  Perf  Pwr:Usage/Cap|         Memory-Usage | GPU-Util  Compute M. |\n",
      "|                               |                      |               MIG M. |\n",
      "|===============================+======================+======================|\n",
      "|   0  Tesla K80           Off  | 00000000:00:04.0 Off |                    0 |\n",
      "| N/A   33C    P8    28W / 149W |      0MiB / 11441MiB |      0%      Default |\n",
      "|                               |                      |                 ERR! |\n",
      "+-------------------------------+----------------------+----------------------+\n",
      "                                                                               \n",
      "+-----------------------------------------------------------------------------+\n",
      "| Processes:                                                                  |\n",
      "|  GPU   GI   CI        PID   Type   Process name                  GPU Memory |\n",
      "|        ID   ID                                                   Usage      |\n",
      "|=============================================================================|\n",
      "|  No running processes found                                                 |\n",
      "+-----------------------------------------------------------------------------+\n"
     ]
    }
   ],
   "source": [
    "!nvidia-smi"
   ]
  },
  {
   "cell_type": "code",
   "execution_count": 2,
   "metadata": {
    "colab": {
     "base_uri": "https://localhost:8080/"
    },
    "executionInfo": {
     "elapsed": 19650,
     "status": "ok",
     "timestamp": 1607440493638,
     "user": {
      "displayName": "Sriram Murali",
      "photoUrl": "",
      "userId": "12278342188158829641"
     },
     "user_tz": -330
    },
    "id": "qZ0N_R9W368P",
    "outputId": "c7426370-bc79-4c93-bc26-369f89c9c38c"
   },
   "outputs": [
    {
     "name": "stdout",
     "output_type": "stream",
     "text": [
      "Mounted at /content/drive\n"
     ]
    }
   ],
   "source": [
    "from google.colab import drive\n",
    "drive.mount('/content/drive')"
   ]
  },
  {
   "cell_type": "code",
   "execution_count": 2,
   "metadata": {
    "colab": {
     "base_uri": "https://localhost:8080/"
    },
    "executionInfo": {
     "elapsed": 41869,
     "status": "ok",
     "timestamp": 1607440021716,
     "user": {
      "displayName": "Sriram Murali",
      "photoUrl": "",
      "userId": "12278342188158829641"
     },
     "user_tz": -330
    },
    "id": "mer1hsQ130FA",
    "outputId": "bbfd972a-92f5-4a0f-9008-d20943e6a876"
   },
   "outputs": [
    {
     "name": "stdout",
     "output_type": "stream",
     "text": [
      "Collecting tensorflow-gpu\n",
      "\u001b[?25l  Downloading https://files.pythonhosted.org/packages/18/99/ac32fd13d56e40d4c3e6150030132519997c0bb1f06f448d970e81b177e5/tensorflow_gpu-2.3.1-cp36-cp36m-manylinux2010_x86_64.whl (320.4MB)\n",
      "\u001b[K     |████████████████████████████████| 320.4MB 54kB/s \n",
      "\u001b[?25hRequirement already satisfied: termcolor>=1.1.0 in /usr/local/lib/python3.6/dist-packages (from tensorflow-gpu) (1.1.0)\n",
      "Requirement already satisfied: tensorboard<3,>=2.3.0 in /usr/local/lib/python3.6/dist-packages (from tensorflow-gpu) (2.3.0)\n",
      "Requirement already satisfied: six>=1.12.0 in /usr/local/lib/python3.6/dist-packages (from tensorflow-gpu) (1.15.0)\n",
      "Requirement already satisfied: opt-einsum>=2.3.2 in /usr/local/lib/python3.6/dist-packages (from tensorflow-gpu) (3.3.0)\n",
      "Requirement already satisfied: absl-py>=0.7.0 in /usr/local/lib/python3.6/dist-packages (from tensorflow-gpu) (0.10.0)\n",
      "Requirement already satisfied: h5py<2.11.0,>=2.10.0 in /usr/local/lib/python3.6/dist-packages (from tensorflow-gpu) (2.10.0)\n",
      "Requirement already satisfied: google-pasta>=0.1.8 in /usr/local/lib/python3.6/dist-packages (from tensorflow-gpu) (0.2.0)\n",
      "Requirement already satisfied: keras-preprocessing<1.2,>=1.1.1 in /usr/local/lib/python3.6/dist-packages (from tensorflow-gpu) (1.1.2)\n",
      "Requirement already satisfied: gast==0.3.3 in /usr/local/lib/python3.6/dist-packages (from tensorflow-gpu) (0.3.3)\n",
      "Requirement already satisfied: tensorflow-estimator<2.4.0,>=2.3.0 in /usr/local/lib/python3.6/dist-packages (from tensorflow-gpu) (2.3.0)\n",
      "Requirement already satisfied: wrapt>=1.11.1 in /usr/local/lib/python3.6/dist-packages (from tensorflow-gpu) (1.12.1)\n",
      "Requirement already satisfied: protobuf>=3.9.2 in /usr/local/lib/python3.6/dist-packages (from tensorflow-gpu) (3.12.4)\n",
      "Requirement already satisfied: grpcio>=1.8.6 in /usr/local/lib/python3.6/dist-packages (from tensorflow-gpu) (1.33.2)\n",
      "Requirement already satisfied: astunparse==1.6.3 in /usr/local/lib/python3.6/dist-packages (from tensorflow-gpu) (1.6.3)\n",
      "Requirement already satisfied: numpy<1.19.0,>=1.16.0 in /usr/local/lib/python3.6/dist-packages (from tensorflow-gpu) (1.18.5)\n",
      "Requirement already satisfied: wheel>=0.26 in /usr/local/lib/python3.6/dist-packages (from tensorflow-gpu) (0.35.1)\n",
      "Requirement already satisfied: tensorboard-plugin-wit>=1.6.0 in /usr/local/lib/python3.6/dist-packages (from tensorboard<3,>=2.3.0->tensorflow-gpu) (1.7.0)\n",
      "Requirement already satisfied: requests<3,>=2.21.0 in /usr/local/lib/python3.6/dist-packages (from tensorboard<3,>=2.3.0->tensorflow-gpu) (2.23.0)\n",
      "Requirement already satisfied: markdown>=2.6.8 in /usr/local/lib/python3.6/dist-packages (from tensorboard<3,>=2.3.0->tensorflow-gpu) (3.3.3)\n",
      "Requirement already satisfied: setuptools>=41.0.0 in /usr/local/lib/python3.6/dist-packages (from tensorboard<3,>=2.3.0->tensorflow-gpu) (50.3.2)\n",
      "Requirement already satisfied: google-auth<2,>=1.6.3 in /usr/local/lib/python3.6/dist-packages (from tensorboard<3,>=2.3.0->tensorflow-gpu) (1.17.2)\n",
      "Requirement already satisfied: google-auth-oauthlib<0.5,>=0.4.1 in /usr/local/lib/python3.6/dist-packages (from tensorboard<3,>=2.3.0->tensorflow-gpu) (0.4.2)\n",
      "Requirement already satisfied: werkzeug>=0.11.15 in /usr/local/lib/python3.6/dist-packages (from tensorboard<3,>=2.3.0->tensorflow-gpu) (1.0.1)\n",
      "Requirement already satisfied: idna<3,>=2.5 in /usr/local/lib/python3.6/dist-packages (from requests<3,>=2.21.0->tensorboard<3,>=2.3.0->tensorflow-gpu) (2.10)\n",
      "Requirement already satisfied: certifi>=2017.4.17 in /usr/local/lib/python3.6/dist-packages (from requests<3,>=2.21.0->tensorboard<3,>=2.3.0->tensorflow-gpu) (2020.11.8)\n",
      "Requirement already satisfied: urllib3!=1.25.0,!=1.25.1,<1.26,>=1.21.1 in /usr/local/lib/python3.6/dist-packages (from requests<3,>=2.21.0->tensorboard<3,>=2.3.0->tensorflow-gpu) (1.24.3)\n",
      "Requirement already satisfied: chardet<4,>=3.0.2 in /usr/local/lib/python3.6/dist-packages (from requests<3,>=2.21.0->tensorboard<3,>=2.3.0->tensorflow-gpu) (3.0.4)\n",
      "Requirement already satisfied: importlib-metadata; python_version < \"3.8\" in /usr/local/lib/python3.6/dist-packages (from markdown>=2.6.8->tensorboard<3,>=2.3.0->tensorflow-gpu) (2.0.0)\n",
      "Requirement already satisfied: rsa<5,>=3.1.4; python_version >= \"3\" in /usr/local/lib/python3.6/dist-packages (from google-auth<2,>=1.6.3->tensorboard<3,>=2.3.0->tensorflow-gpu) (4.6)\n",
      "Requirement already satisfied: cachetools<5.0,>=2.0.0 in /usr/local/lib/python3.6/dist-packages (from google-auth<2,>=1.6.3->tensorboard<3,>=2.3.0->tensorflow-gpu) (4.1.1)\n",
      "Requirement already satisfied: pyasn1-modules>=0.2.1 in /usr/local/lib/python3.6/dist-packages (from google-auth<2,>=1.6.3->tensorboard<3,>=2.3.0->tensorflow-gpu) (0.2.8)\n",
      "Requirement already satisfied: requests-oauthlib>=0.7.0 in /usr/local/lib/python3.6/dist-packages (from google-auth-oauthlib<0.5,>=0.4.1->tensorboard<3,>=2.3.0->tensorflow-gpu) (1.3.0)\n",
      "Requirement already satisfied: zipp>=0.5 in /usr/local/lib/python3.6/dist-packages (from importlib-metadata; python_version < \"3.8\"->markdown>=2.6.8->tensorboard<3,>=2.3.0->tensorflow-gpu) (3.4.0)\n",
      "Requirement already satisfied: pyasn1>=0.1.3 in /usr/local/lib/python3.6/dist-packages (from rsa<5,>=3.1.4; python_version >= \"3\"->google-auth<2,>=1.6.3->tensorboard<3,>=2.3.0->tensorflow-gpu) (0.4.8)\n",
      "Requirement already satisfied: oauthlib>=3.0.0 in /usr/local/lib/python3.6/dist-packages (from requests-oauthlib>=0.7.0->google-auth-oauthlib<0.5,>=0.4.1->tensorboard<3,>=2.3.0->tensorflow-gpu) (3.1.0)\n",
      "Installing collected packages: tensorflow-gpu\n",
      "Successfully installed tensorflow-gpu-2.3.1\n"
     ]
    }
   ],
   "source": [
    "!pip install tensorflow-gpu\n"
   ]
  },
  {
   "cell_type": "code",
   "execution_count": 3,
   "metadata": {
    "executionInfo": {
     "elapsed": 486,
     "status": "ok",
     "timestamp": 1607440497287,
     "user": {
      "displayName": "Sriram Murali",
      "photoUrl": "",
      "userId": "12278342188158829641"
     },
     "user_tz": -330
    },
    "id": "XwxwmhJ23wrO"
   },
   "outputs": [],
   "source": [
    "import numpy as np\n",
    "import pandas as pd\n",
    "import matplotlib.pyplot as plt\n",
    "import datetime\n",
    "%matplotlib inline"
   ]
  },
  {
   "cell_type": "code",
   "execution_count": 4,
   "metadata": {
    "colab": {
     "base_uri": "https://localhost:8080/"
    },
    "executionInfo": {
     "elapsed": 2668,
     "status": "ok",
     "timestamp": 1607440501566,
     "user": {
      "displayName": "Sriram Murali",
      "photoUrl": "",
      "userId": "12278342188158829641"
     },
     "user_tz": -330
    },
    "id": "bAZn20tA3wrP",
    "outputId": "35147d59-f6b9-4f0f-91bf-68fffb51c028"
   },
   "outputs": [
    {
     "name": "stderr",
     "output_type": "stream",
     "text": [
      "/usr/local/lib/python3.6/dist-packages/IPython/core/interactiveshell.py:2718: DtypeWarning: Columns (7) have mixed types.Specify dtype option on import or set low_memory=False.\n",
      "  interactivity=interactivity, compiler=compiler, result=result)\n"
     ]
    }
   ],
   "source": [
    "df = pd.read_csv(\"/content/drive/MyDrive/Dataset/train.csv\")\n",
    "store_df = pd.read_csv(\"/content/drive/MyDrive/Dataset/store.csv\")\n",
    "df = pd.merge(df, store_df, how='inner', on='Store')"
   ]
  },
  {
   "cell_type": "code",
   "execution_count": 5,
   "metadata": {
    "colab": {
     "base_uri": "https://localhost:8080/",
     "height": 195
    },
    "executionInfo": {
     "elapsed": 610,
     "status": "ok",
     "timestamp": 1607440503180,
     "user": {
      "displayName": "Sriram Murali",
      "photoUrl": "",
      "userId": "12278342188158829641"
     },
     "user_tz": -330
    },
    "id": "5I8mBpx43wrP",
    "outputId": "6eac4948-6bf2-47d9-b55c-e48a8f5a3c8c"
   },
   "outputs": [
    {
     "data": {
      "text/html": [
       "<div>\n",
       "<style scoped>\n",
       "    .dataframe tbody tr th:only-of-type {\n",
       "        vertical-align: middle;\n",
       "    }\n",
       "\n",
       "    .dataframe tbody tr th {\n",
       "        vertical-align: top;\n",
       "    }\n",
       "\n",
       "    .dataframe thead th {\n",
       "        text-align: right;\n",
       "    }\n",
       "</style>\n",
       "<table border=\"1\" class=\"dataframe\">\n",
       "  <thead>\n",
       "    <tr style=\"text-align: right;\">\n",
       "      <th></th>\n",
       "      <th>Store</th>\n",
       "      <th>DayOfWeek</th>\n",
       "      <th>Date</th>\n",
       "      <th>Sales</th>\n",
       "      <th>Customers</th>\n",
       "      <th>Open</th>\n",
       "      <th>Promo</th>\n",
       "      <th>StateHoliday</th>\n",
       "      <th>SchoolHoliday</th>\n",
       "    </tr>\n",
       "  </thead>\n",
       "  <tbody>\n",
       "    <tr>\n",
       "      <th>0</th>\n",
       "      <td>1</td>\n",
       "      <td>5</td>\n",
       "      <td>2015-07-31</td>\n",
       "      <td>5263</td>\n",
       "      <td>555</td>\n",
       "      <td>1</td>\n",
       "      <td>1</td>\n",
       "      <td>0</td>\n",
       "      <td>1</td>\n",
       "    </tr>\n",
       "    <tr>\n",
       "      <th>1</th>\n",
       "      <td>2</td>\n",
       "      <td>5</td>\n",
       "      <td>2015-07-31</td>\n",
       "      <td>6064</td>\n",
       "      <td>625</td>\n",
       "      <td>1</td>\n",
       "      <td>1</td>\n",
       "      <td>0</td>\n",
       "      <td>1</td>\n",
       "    </tr>\n",
       "    <tr>\n",
       "      <th>2</th>\n",
       "      <td>3</td>\n",
       "      <td>5</td>\n",
       "      <td>2015-07-31</td>\n",
       "      <td>8314</td>\n",
       "      <td>821</td>\n",
       "      <td>1</td>\n",
       "      <td>1</td>\n",
       "      <td>0</td>\n",
       "      <td>1</td>\n",
       "    </tr>\n",
       "    <tr>\n",
       "      <th>3</th>\n",
       "      <td>4</td>\n",
       "      <td>5</td>\n",
       "      <td>2015-07-31</td>\n",
       "      <td>13995</td>\n",
       "      <td>1498</td>\n",
       "      <td>1</td>\n",
       "      <td>1</td>\n",
       "      <td>0</td>\n",
       "      <td>1</td>\n",
       "    </tr>\n",
       "    <tr>\n",
       "      <th>4</th>\n",
       "      <td>5</td>\n",
       "      <td>5</td>\n",
       "      <td>2015-07-31</td>\n",
       "      <td>4822</td>\n",
       "      <td>559</td>\n",
       "      <td>1</td>\n",
       "      <td>1</td>\n",
       "      <td>0</td>\n",
       "      <td>1</td>\n",
       "    </tr>\n",
       "  </tbody>\n",
       "</table>\n",
       "</div>"
      ],
      "text/plain": [
       "   Store  DayOfWeek        Date  Sales  ...  Open  Promo  StateHoliday SchoolHoliday\n",
       "0      1          5  2015-07-31   5263  ...     1      1             0             1\n",
       "1      2          5  2015-07-31   6064  ...     1      1             0             1\n",
       "2      3          5  2015-07-31   8314  ...     1      1             0             1\n",
       "3      4          5  2015-07-31  13995  ...     1      1             0             1\n",
       "4      5          5  2015-07-31   4822  ...     1      1             0             1\n",
       "\n",
       "[5 rows x 9 columns]"
      ]
     },
     "execution_count": 5,
     "metadata": {
      "tags": []
     },
     "output_type": "execute_result"
    }
   ],
   "source": [
    "df.head()"
   ]
  },
  {
   "cell_type": "code",
   "execution_count": 6,
   "metadata": {
    "colab": {
     "base_uri": "https://localhost:8080/"
    },
    "executionInfo": {
     "elapsed": 465,
     "status": "ok",
     "timestamp": 1607440504822,
     "user": {
      "displayName": "Sriram Murali",
      "photoUrl": "",
      "userId": "12278342188158829641"
     },
     "user_tz": -330
    },
    "id": "guoO7pL83wrQ",
    "outputId": "a036bf1a-6ed7-404e-f74d-3c2d91608a72"
   },
   "outputs": [
    {
     "name": "stdout",
     "output_type": "stream",
     "text": [
      "<class 'pandas.core.frame.DataFrame'>\n",
      "RangeIndex: 1017209 entries, 0 to 1017208\n",
      "Data columns (total 9 columns):\n",
      " #   Column         Non-Null Count    Dtype \n",
      "---  ------         --------------    ----- \n",
      " 0   Store          1017209 non-null  int64 \n",
      " 1   DayOfWeek      1017209 non-null  int64 \n",
      " 2   Date           1017209 non-null  object\n",
      " 3   Sales          1017209 non-null  int64 \n",
      " 4   Customers      1017209 non-null  int64 \n",
      " 5   Open           1017209 non-null  int64 \n",
      " 6   Promo          1017209 non-null  int64 \n",
      " 7   StateHoliday   1017209 non-null  object\n",
      " 8   SchoolHoliday  1017209 non-null  int64 \n",
      "dtypes: int64(7), object(2)\n",
      "memory usage: 69.8+ MB\n"
     ]
    }
   ],
   "source": [
    "df.info()"
   ]
  },
  {
   "cell_type": "markdown",
   "metadata": {
    "id": "26NN7cl83wrQ"
   },
   "source": [
    "# Data Preprocessing"
   ]
  },
  {
   "cell_type": "code",
   "execution_count": 7,
   "metadata": {
    "executionInfo": {
     "elapsed": 829,
     "status": "ok",
     "timestamp": 1607440507416,
     "user": {
      "displayName": "Sriram Murali",
      "photoUrl": "",
      "userId": "12278342188158829641"
     },
     "user_tz": -330
    },
    "id": "cf_Ou4AC3wrQ"
   },
   "outputs": [],
   "source": [
    "df = df.drop(df[df.Open == 0].index)\n",
    "df = df.drop(df[df.Sales == 0].index)"
   ]
  },
  {
   "cell_type": "code",
   "execution_count": 8,
   "metadata": {
    "executionInfo": {
     "elapsed": 834,
     "status": "ok",
     "timestamp": 1607440508977,
     "user": {
      "displayName": "Sriram Murali",
      "photoUrl": "",
      "userId": "12278342188158829641"
     },
     "user_tz": -330
    },
    "id": "S1m-N1K43wrQ"
   },
   "outputs": [],
   "source": [
    "# Convert for time series\n",
    "df['Date'] = df['Date'].astype('datetime64[ns]')"
   ]
  },
  {
   "cell_type": "code",
   "execution_count": 11,
   "metadata": {
    "colab": {
     "base_uri": "https://localhost:8080/"
    },
    "executionInfo": {
     "elapsed": 504,
     "status": "ok",
     "timestamp": 1607440513851,
     "user": {
      "displayName": "Sriram Murali",
      "photoUrl": "",
      "userId": "12278342188158829641"
     },
     "user_tz": -330
    },
    "id": "lPqNQkUk3wrQ",
    "outputId": "4c5e1798-c5e9-4970-f560-1d8e59493bd1"
   },
   "outputs": [
    {
     "data": {
      "text/plain": [
       "Store                          0\n",
       "StoreType                      0\n",
       "Assortment                     0\n",
       "CompetitionDistance            3\n",
       "CompetitionOpenSinceMonth    354\n",
       "CompetitionOpenSinceYear     354\n",
       "Promo2                         0\n",
       "Promo2SinceWeek              544\n",
       "Promo2SinceYear              544\n",
       "PromoInterval                544\n",
       "dtype: int64"
      ]
     },
     "execution_count": 11,
     "metadata": {
      "tags": []
     },
     "output_type": "execute_result"
    }
   ],
   "source": [
    "store_df.isnull().sum()"
   ]
  },
  {
   "cell_type": "code",
   "execution_count": 12,
   "metadata": {
    "executionInfo": {
     "elapsed": 466,
     "status": "ok",
     "timestamp": 1607440516431,
     "user": {
      "displayName": "Sriram Murali",
      "photoUrl": "",
      "userId": "12278342188158829641"
     },
     "user_tz": -330
    },
    "id": "yRhE9YKm3wrQ"
   },
   "outputs": [],
   "source": [
    "df['CompetitionDistance'].fillna(store_df['CompetitionDistance'].median(), inplace = True)"
   ]
  },
  {
   "cell_type": "code",
   "execution_count": 13,
   "metadata": {
    "executionInfo": {
     "elapsed": 523,
     "status": "ok",
     "timestamp": 1607440517850,
     "user": {
      "displayName": "Sriram Murali",
      "photoUrl": "",
      "userId": "12278342188158829641"
     },
     "user_tz": -330
    },
    "id": "i_F3QnK63wrQ"
   },
   "outputs": [],
   "source": [
    "df.fillna(0, inplace = True)"
   ]
  },
  {
   "cell_type": "code",
   "execution_count": null,
   "metadata": {},
   "outputs": [],
   "source": [
    "df['StateHoliday'] = df.StateHoliday.replace([0, '0'], np.nan)\n",
    "df.StateHoliday.unique()"
   ]
  },
  {
   "cell_type": "code",
   "execution_count": null,
   "metadata": {},
   "outputs": [],
   "source": [
    "dummy_columns = ['StoreType', 'Assortment', 'StateHoliday']\n",
    "df = pd.get_dummies(df, columns=dummy_columns)"
   ]
  },
  {
   "cell_type": "code",
   "execution_count": null,
   "metadata": {},
   "outputs": [],
   "source": [
    "#Splitting the Date as Day, month and year and adding 3 new columns\n",
    "df['Day'] = df['Date'].dt.day\n",
    "df['Month'] = df['Date'].dt.month\n",
    "df['Year'] = df['Date'].dt.year\n",
    "df['Weekofyear'] = df['Date'].dt.weekofyear"
   ]
  },
  {
   "cell_type": "code",
   "execution_count": null,
   "metadata": {},
   "outputs": [],
   "source": [
    "#How long the competition has been open\n",
    "df['CompetitionOpen'] = 12 * (df.Year - df.CompetitionOpenSinceYear) + (df.Month - df.CompetitionOpenSinceMonth)"
   ]
  },
  {
   "cell_type": "code",
   "execution_count": null,
   "metadata": {},
   "outputs": [],
   "source": [
    "#How long the promo has been running\n",
    "df['PromoOpen'] = 12 * (df.Year - df.Promo2SinceYear) + (df.Weekofyear - df.Promo2SinceWeek) / 4.0"
   ]
  },
  {
   "cell_type": "code",
   "execution_count": null,
   "metadata": {},
   "outputs": [],
   "source": [
    "df = df.drop(columns=['Weekofyear','Promo2SinceWeek', 'CompetitionOpenSinceMonth', 'Promo2SinceYear', 'CompetitionOpenSinceYear', 'Open', 'PromoInterval'])"
   ]
  },
  {
   "cell_type": "code",
   "execution_count": null,
   "metadata": {},
   "outputs": [],
   "source": [
    "#replace competitiondistance with furthest variable\n",
    "df['CompetitionDistance'] = df.CompetitionDistance.replace(np.nan, df['CompetitionDistance'].max())\n",
    "                                                           \n",
    "#Competittion Open - use mean\n",
    "df['CompetitionOpen'] = df.CompetitionOpen.replace(np.nan, df['CompetitionOpen'].max())\n",
    "\n",
    "#PromoOpen - recode missing as 0\n",
    "df['PromoOpen'] = df.PromoOpen.replace(np.nan, 0)"
   ]
  },
  {
   "cell_type": "code",
   "execution_count": 26,
   "metadata": {
    "colab": {
     "base_uri": "https://localhost:8080/"
    },
    "executionInfo": {
     "elapsed": 1034,
     "status": "ok",
     "timestamp": 1607440549817,
     "user": {
      "displayName": "Sriram Murali",
      "photoUrl": "",
      "userId": "12278342188158829641"
     },
     "user_tz": -330
    },
    "id": "zVN3qpKw3wrR",
    "outputId": "155244d8-ad2f-467c-c486-d5b93f75f0db"
   },
   "outputs": [
    {
     "data": {
      "text/plain": [
       "array([0.54544483, 0.62373562, 0.70041548, ..., 0.88728236, 0.7654967 ,\n",
       "       0.6056933 ])"
      ]
     },
     "execution_count": 26,
     "metadata": {
      "tags": []
     },
     "output_type": "execute_result"
    }
   ],
   "source": [
    "from scipy.stats import zscore\n",
    "\n",
    "z_scores = np.abs(zscore(df.Sales))\n",
    "z_scores"
   ]
  },
  {
   "cell_type": "code",
   "execution_count": 28,
   "metadata": {
    "colab": {
     "base_uri": "https://localhost:8080/"
    },
    "executionInfo": {
     "elapsed": 427,
     "status": "ok",
     "timestamp": 1607440552918,
     "user": {
      "displayName": "Sriram Murali",
      "photoUrl": "",
      "userId": "12278342188158829641"
     },
     "user_tz": -330
    },
    "id": "66GgN3Mf3wrR",
    "outputId": "fd975c02-7ebb-4a68-a5e1-081725a0897f"
   },
   "outputs": [
    {
     "name": "stdout",
     "output_type": "stream",
     "text": [
      "Removed data 13443\n"
     ]
    }
   ],
   "source": [
    "removed_df = df[z_scores < 3]\n",
    "print('Removed data', len(df) - len(removed_df))\n",
    "df = removed_df"
   ]
  },
  {
   "cell_type": "code",
   "execution_count": 30,
   "metadata": {
    "executionInfo": {
     "elapsed": 483,
     "status": "ok",
     "timestamp": 1607440557532,
     "user": {
      "displayName": "Sriram Murali",
      "photoUrl": "",
      "userId": "12278342188158829641"
     },
     "user_tz": -330
    },
    "id": "1jpn3wkN3wrR"
   },
   "outputs": [],
   "source": [
    "X = df.drop(columns=['Date','Sales','Customers','Store','StateHoliday_b','StateHoliday_c'])\n",
    "Y = df['Sales']"
   ]
  },
  {
   "cell_type": "code",
   "execution_count": 31,
   "metadata": {
    "colab": {
     "base_uri": "https://localhost:8080/"
    },
    "executionInfo": {
     "elapsed": 1221,
     "status": "ok",
     "timestamp": 1607440559737,
     "user": {
      "displayName": "Sriram Murali",
      "photoUrl": "",
      "userId": "12278342188158829641"
     },
     "user_tz": -330
    },
    "id": "16tw7N1Z3wrR",
    "outputId": "dfbef35f-84c8-4c90-84b8-a49b20d66183"
   },
   "outputs": [
    {
     "data": {
      "text/plain": [
       "array([[-1.72816544,  2.04438985, -0.54018005, ...,  1.74810654,\n",
       "         1.12330986, -0.00658396],\n",
       "       [-1.72816544,  2.04438985, -0.54018005, ...,  1.63276315,\n",
       "         1.12330986, -0.13931366],\n",
       "       [-1.72816544,  2.04438985, -0.54018005, ...,  1.51741976,\n",
       "         1.12330986, -0.16263587],\n",
       "       ...,\n",
       "       [-0.825448  ,  2.04438985, -0.56192732, ..., -1.36616493,\n",
       "        -0.89022632, -0.91643385],\n",
       "       [-0.825448  ,  2.04438985, -0.56192732, ..., -1.48150831,\n",
       "        -0.89022632, -1.18541212],\n",
       "       [-0.825448  ,  2.04438985, -0.56192732, ..., -1.5968517 ,\n",
       "        -0.89022632, -0.89344985]])"
      ]
     },
     "execution_count": 31,
     "metadata": {
      "tags": []
     },
     "output_type": "execute_result"
    }
   ],
   "source": [
    "from sklearn.preprocessing import StandardScaler\n",
    "\n",
    "scaler = StandardScaler()\n",
    "scaled_X = scaler.fit_transform(X)\n",
    "scaled_X"
   ]
  },
  {
   "cell_type": "code",
   "execution_count": 32,
   "metadata": {
    "colab": {
     "base_uri": "https://localhost:8080/"
    },
    "executionInfo": {
     "elapsed": 626,
     "status": "ok",
     "timestamp": 1607440562466,
     "user": {
      "displayName": "Sriram Murali",
      "photoUrl": "",
      "userId": "12278342188158829641"
     },
     "user_tz": -330
    },
    "id": "rVOFvxEz3wrR",
    "outputId": "18beee84-9c35-4658-b6d1-7457d8af765b"
   },
   "outputs": [
    {
     "name": "stdout",
     "output_type": "stream",
     "text": [
      "True\n",
      "[[-1.2101111  -0.4891435   0.90153635 ... -0.78944799 -0.89022632\n",
      "  -0.32066056]\n",
      " [ 0.6108344   2.04438985  0.97701219 ...  1.05604621 -0.89022632\n",
      "   0.95195155]\n",
      " [ 0.87451475 -0.4891435  -0.56576508 ... -0.90479138 -0.89022632\n",
      "  -1.28600492]\n",
      " ...\n",
      " [ 0.97378265  2.04438985 -0.20885392 ... -0.44341783 -0.89022632\n",
      "   0.37672988]\n",
      " [ 0.86520839 -0.4891435   1.16506215 ...  0.59467266  1.12330986\n",
      "  -0.8937481 ]\n",
      " [ 0.61393652 -0.4891435  -0.69624873 ... -0.44341783 -0.89022632\n",
      "  -1.41309092]]\n",
      "[[ 1.01411023  2.04438985 -0.64124091 ...  1.63276315 -0.89022632\n",
      "  -1.48767904]\n",
      " [-1.60097845 -0.4891435  -0.66554669 ...  0.71001605  1.12330986\n",
      "  -0.11908585]\n",
      " [-0.96194136  2.04438985 -0.65915043 ...  0.13329911 -0.89022632\n",
      "  -1.17336497]\n",
      " ...\n",
      " [ 0.08967793 -0.4891435  -0.66042968 ...  1.28673299  1.12330986\n",
      "   2.77684763]\n",
      " [-0.20192152 -0.4891435  -0.55553106 ...  0.47932927  1.12330986\n",
      "   0.33617757]\n",
      " [ 1.33052666 -0.4891435  -0.48645149 ...  1.05604621 -0.89022632\n",
      "  -1.04115687]]\n"
     ]
    },
    {
     "data": {
      "text/plain": [
       "array([[ 1.26848422, -0.4891435 , -0.24723146, ..., -1.48150831,\n",
       "         1.12330986,  0.2539842 ],\n",
       "       [ 1.56318579, -0.4891435 , -0.6783392 , ..., -1.36616493,\n",
       "         1.12330986,  1.46883208],\n",
       "       [ 1.6066155 , -0.4891435 , -0.69113172, ..., -1.36616493,\n",
       "         1.12330986, -1.09128462],\n",
       "       ...,\n",
       "       [ 0.23857978, -0.4891435 ,  2.81913429, ..., -0.32807444,\n",
       "        -0.89022632, -0.19982556],\n",
       "       [-0.39735519, -0.4891435 ,  0.94375165, ..., -0.55876121,\n",
       "        -0.89022632,  1.36327399],\n",
       "       [-1.38382992, -0.4891435 , -0.49412699, ...,  1.51741976,\n",
       "        -0.89022632, -0.71756549]])"
      ]
     },
     "execution_count": 32,
     "metadata": {
      "tags": []
     },
     "output_type": "execute_result"
    }
   ],
   "source": [
    "from sklearn.model_selection import train_test_split\n",
    "\n",
    "x_train, x_rest, y_train, y_rest = train_test_split(scaled_X, Y, test_size=0.30)\n",
    "x_test, x_val, y_test, y_val = train_test_split(x_rest, y_rest, test_size=0.5)\n",
    "print(len(x_train) + len(x_test) + len(x_val) == len(df))\n",
    "print(x_train)\n",
    "print(x_test)\n",
    "x_val"
   ]
  },
  {
   "cell_type": "code",
   "execution_count": 33,
   "metadata": {
    "colab": {
     "base_uri": "https://localhost:8080/"
    },
    "executionInfo": {
     "elapsed": 461,
     "status": "ok",
     "timestamp": 1607440565741,
     "user": {
      "displayName": "Sriram Murali",
      "photoUrl": "",
      "userId": "12278342188158829641"
     },
     "user_tz": -330
    },
    "id": "lffI6_AU3wrR",
    "outputId": "cce1eb44-a1ff-4c0d-9019-740dd922aae4"
   },
   "outputs": [
    {
     "data": {
      "text/plain": [
       "(581626, 9)"
      ]
     },
     "execution_count": 33,
     "metadata": {
      "tags": []
     },
     "output_type": "execute_result"
    }
   ],
   "source": [
    "x_train.shape"
   ]
  },
  {
   "cell_type": "code",
   "execution_count": 34,
   "metadata": {
    "colab": {
     "base_uri": "https://localhost:8080/"
    },
    "executionInfo": {
     "elapsed": 479,
     "status": "ok",
     "timestamp": 1607440567281,
     "user": {
      "displayName": "Sriram Murali",
      "photoUrl": "",
      "userId": "12278342188158829641"
     },
     "user_tz": -330
    },
    "id": "A7YBVJnv3wrR",
    "outputId": "eb9f9a23-3ebd-4a85-a18b-7eca785812bd"
   },
   "outputs": [
    {
     "data": {
      "text/plain": [
       "(124634, 9)"
      ]
     },
     "execution_count": 34,
     "metadata": {
      "tags": []
     },
     "output_type": "execute_result"
    }
   ],
   "source": [
    "x_test.shape"
   ]
  },
  {
   "cell_type": "markdown",
   "metadata": {
    "executionInfo": {
     "elapsed": 464,
     "status": "ok",
     "timestamp": 1607440569430,
     "user": {
      "displayName": "Sriram Murali",
      "photoUrl": "",
      "userId": "12278342188158829641"
     },
     "user_tz": -330
    },
    "id": "5C1M-26o3wrR"
   },
   "source": [
    "## Since the input for a CNN and LSTM should be in 3 dimension, the inputs were reshaped."
   ]
  },
  {
   "cell_type": "code",
   "execution_count": 36,
   "metadata": {
    "executionInfo": {
     "elapsed": 444,
     "status": "ok",
     "timestamp": 1607440571171,
     "user": {
      "displayName": "Sriram Murali",
      "photoUrl": "",
      "userId": "12278342188158829641"
     },
     "user_tz": -330
    },
    "id": "vYhNgZ7m3wrR"
   },
   "outputs": [],
   "source": [
    "# reshape input to be [samples, time steps, features] which is required for LSTM\n",
    "x_train = x_train.reshape(x_train.shape[0], 1, x_train.shape[1])\n",
    "x_test = x_test.reshape(x_test.shape[0], 1, x_test.shape[1])"
   ]
  },
  {
   "cell_type": "code",
   "execution_count": 37,
   "metadata": {
    "colab": {
     "base_uri": "https://localhost:8080/"
    },
    "executionInfo": {
     "elapsed": 894,
     "status": "ok",
     "timestamp": 1607440573382,
     "user": {
      "displayName": "Sriram Murali",
      "photoUrl": "",
      "userId": "12278342188158829641"
     },
     "user_tz": -330
    },
    "id": "ZTTb4yDG3wrR",
    "outputId": "b0fae063-b3c3-4011-fa99-8d37ac1f05ec"
   },
   "outputs": [
    {
     "data": {
      "text/plain": [
       "(581626, 9, 1)"
      ]
     },
     "execution_count": 37,
     "metadata": {
      "tags": []
     },
     "output_type": "execute_result"
    }
   ],
   "source": [
    "x_train.shape"
   ]
  },
  {
   "cell_type": "code",
   "execution_count": 38,
   "metadata": {
    "colab": {
     "base_uri": "https://localhost:8080/"
    },
    "executionInfo": {
     "elapsed": 476,
     "status": "ok",
     "timestamp": 1607440575001,
     "user": {
      "displayName": "Sriram Murali",
      "photoUrl": "",
      "userId": "12278342188158829641"
     },
     "user_tz": -330
    },
    "id": "wyaAe1lj3wrR",
    "outputId": "8c7d52d4-cad8-423d-d51c-445f6cc27580"
   },
   "outputs": [
    {
     "data": {
      "text/plain": [
       "(124634, 9, 1)"
      ]
     },
     "execution_count": 38,
     "metadata": {
      "tags": []
     },
     "output_type": "execute_result"
    }
   ],
   "source": [
    "x_test.shape"
   ]
  },
  {
   "cell_type": "markdown",
   "metadata": {
    "id": "1sl0i-733wrR"
   },
   "source": [
    "# Modelling"
   ]
  },
  {
   "cell_type": "code",
   "execution_count": 39,
   "metadata": {
    "executionInfo": {
     "elapsed": 2062,
     "status": "ok",
     "timestamp": 1607440578981,
     "user": {
      "displayName": "Sriram Murali",
      "photoUrl": "",
      "userId": "12278342188158829641"
     },
     "user_tz": -330
    },
    "id": "6cwy1G0s3wrS"
   },
   "outputs": [],
   "source": [
    "import keras\n",
    "from keras.layers import Dense, Dropout\n",
    "from keras.models import Sequential\n",
    "from keras.optimizers import Adam\n",
    "from keras.layers import LSTM\n",
    "from keras.utils import np_utils"
   ]
  },
  {
   "cell_type": "code",
   "execution_count": 41,
   "metadata": {
    "executionInfo": {
     "elapsed": 1011,
     "status": "ok",
     "timestamp": 1607440602920,
     "user": {
      "displayName": "Sriram Murali",
      "photoUrl": "",
      "userId": "12278342188158829641"
     },
     "user_tz": -330
    },
    "id": "7B_dyCSn3wrS"
   },
   "outputs": [],
   "source": [
    "model = Sequential()\n",
    "model.add(LSTM(16,return_sequences=True,input_shape=(9, 1), activation = 'tanh', kernel_initializer = 'glorot_uniform',\n",
    "              kernel_regularizer = 'l2'))\n",
    "model.add(Dropout(0.2))\n",
    "model.add(LSTM(8,return_sequences=True, activation = 'tanh'))\n",
    "model.add(Dropout(0.2))\n",
    "model.add(LSTM(8, activation = 'linear'))\n",
    "model.add(Dropout(0.2))\n",
    "model.add(Dense(1))"
   ]
  },
  {
   "cell_type": "code",
   "execution_count": 42,
   "metadata": {
    "executionInfo": {
     "elapsed": 572,
     "status": "ok",
     "timestamp": 1607440605821,
     "user": {
      "displayName": "Sriram Murali",
      "photoUrl": "",
      "userId": "12278342188158829641"
     },
     "user_tz": -330
    },
    "id": "f0YMykuI3wrS"
   },
   "outputs": [],
   "source": [
    "model.compile(loss='mean_squared_error',optimizer='adam', metrics = ['mse'])"
   ]
  },
  {
   "cell_type": "code",
   "execution_count": 43,
   "metadata": {
    "colab": {
     "base_uri": "https://localhost:8080/"
    },
    "executionInfo": {
     "elapsed": 19700855,
     "status": "ok",
     "timestamp": 1607460309258,
     "user": {
      "displayName": "Sriram Murali",
      "photoUrl": "",
      "userId": "12278342188158829641"
     },
     "user_tz": -330
    },
    "id": "mOYYSpUG3wrS",
    "outputId": "1f626a71-c179-4145-ebd2-45ab00a04dc8"
   },
   "outputs": [
    {
     "name": "stdout",
     "output_type": "stream",
     "text": [
      "Epoch 1/100\n",
      "18176/18176 [==============================] - 196s 11ms/step - loss: 8862101.0000 - mse: 8862101.0000\n",
      "Epoch 2/100\n",
      "18176/18176 [==============================] - 204s 11ms/step - loss: 8385684.5000 - mse: 8385684.5000\n",
      "Epoch 3/100\n",
      "18176/18176 [==============================] - 195s 11ms/step - loss: 7603792.0000 - mse: 7603792.0000\n",
      "Epoch 4/100\n",
      "18176/18176 [==============================] - 194s 11ms/step - loss: 7249530.5000 - mse: 7249530.5000\n",
      "Epoch 5/100\n",
      "18176/18176 [==============================] - 195s 11ms/step - loss: 7183652.0000 - mse: 7183652.0000\n",
      "Epoch 6/100\n",
      "18176/18176 [==============================] - 193s 11ms/step - loss: 7152332.0000 - mse: 7152330.0000\n",
      "Epoch 7/100\n",
      "18176/18176 [==============================] - 205s 11ms/step - loss: 7102688.5000 - mse: 7102688.0000\n",
      "Epoch 8/100\n",
      "18176/18176 [==============================] - 203s 11ms/step - loss: 7059755.5000 - mse: 7059754.5000\n",
      "Epoch 9/100\n",
      "18176/18176 [==============================] - 197s 11ms/step - loss: 7038800.0000 - mse: 7038799.0000\n",
      "Epoch 10/100\n",
      "18176/18176 [==============================] - 193s 11ms/step - loss: 7017195.5000 - mse: 7017195.5000\n",
      "Epoch 11/100\n",
      "18176/18176 [==============================] - 192s 11ms/step - loss: 6998713.0000 - mse: 6998712.0000\n",
      "Epoch 12/100\n",
      "18176/18176 [==============================] - 192s 11ms/step - loss: 6969773.0000 - mse: 6969772.5000\n",
      "Epoch 13/100\n",
      "18176/18176 [==============================] - 192s 11ms/step - loss: 6915778.5000 - mse: 6915776.5000\n",
      "Epoch 14/100\n",
      "18176/18176 [==============================] - 193s 11ms/step - loss: 6901542.5000 - mse: 6901541.0000\n",
      "Epoch 15/100\n",
      "18176/18176 [==============================] - 196s 11ms/step - loss: 6887868.0000 - mse: 6887867.5000\n",
      "Epoch 16/100\n",
      "18176/18176 [==============================] - 197s 11ms/step - loss: 6871809.5000 - mse: 6871807.5000\n",
      "Epoch 17/100\n",
      "18176/18176 [==============================] - 197s 11ms/step - loss: 6831589.0000 - mse: 6831587.0000\n",
      "Epoch 18/100\n",
      "18176/18176 [==============================] - 198s 11ms/step - loss: 6948513.5000 - mse: 6948513.0000\n",
      "Epoch 19/100\n",
      "18176/18176 [==============================] - 191s 10ms/step - loss: 6808655.5000 - mse: 6808653.5000\n",
      "Epoch 20/100\n",
      "18176/18176 [==============================] - 191s 11ms/step - loss: 6941537.0000 - mse: 6941535.0000\n",
      "Epoch 21/100\n",
      "18176/18176 [==============================] - 193s 11ms/step - loss: 6797592.0000 - mse: 6797589.5000\n",
      "Epoch 22/100\n",
      "18176/18176 [==============================] - 191s 10ms/step - loss: 6899492.5000 - mse: 6899491.5000\n",
      "Epoch 23/100\n",
      "18176/18176 [==============================] - 194s 11ms/step - loss: 6887244.0000 - mse: 6887243.0000\n",
      "Epoch 24/100\n",
      "18176/18176 [==============================] - 192s 11ms/step - loss: 6860067.5000 - mse: 6860065.5000\n",
      "Epoch 25/100\n",
      "18176/18176 [==============================] - 208s 11ms/step - loss: 6845730.0000 - mse: 6845727.0000\n",
      "Epoch 26/100\n",
      "18176/18176 [==============================] - 203s 11ms/step - loss: 6804330.0000 - mse: 6804329.0000\n",
      "Epoch 27/100\n",
      "18176/18176 [==============================] - 190s 10ms/step - loss: 6774579.5000 - mse: 6774576.5000\n",
      "Epoch 28/100\n",
      "18176/18176 [==============================] - 193s 11ms/step - loss: 6753490.0000 - mse: 6753487.0000\n",
      "Epoch 29/100\n",
      "18176/18176 [==============================] - 190s 10ms/step - loss: 6733580.0000 - mse: 6733577.0000\n",
      "Epoch 30/100\n",
      "18176/18176 [==============================] - 189s 10ms/step - loss: 6712846.5000 - mse: 6712844.0000\n",
      "Epoch 31/100\n",
      "18176/18176 [==============================] - 193s 11ms/step - loss: 6689995.5000 - mse: 6689993.0000\n",
      "Epoch 32/100\n",
      "18176/18176 [==============================] - 194s 11ms/step - loss: 6671548.5000 - mse: 6671546.0000\n",
      "Epoch 33/100\n",
      "18176/18176 [==============================] - 197s 11ms/step - loss: 6669161.5000 - mse: 6669158.0000\n",
      "Epoch 34/100\n",
      "18176/18176 [==============================] - 194s 11ms/step - loss: 6637139.5000 - mse: 6637136.0000\n",
      "Epoch 35/100\n",
      "18176/18176 [==============================] - 196s 11ms/step - loss: 6628912.0000 - mse: 6628908.0000\n",
      "Epoch 36/100\n",
      "18176/18176 [==============================] - 199s 11ms/step - loss: 6598728.5000 - mse: 6598726.0000\n",
      "Epoch 37/100\n",
      "18176/18176 [==============================] - 197s 11ms/step - loss: 6597524.5000 - mse: 6597521.0000\n",
      "Epoch 38/100\n",
      "18176/18176 [==============================] - 193s 11ms/step - loss: 6577480.5000 - mse: 6577478.0000\n",
      "Epoch 39/100\n",
      "18176/18176 [==============================] - 194s 11ms/step - loss: 6549660.5000 - mse: 6549657.0000\n",
      "Epoch 40/100\n",
      "18176/18176 [==============================] - 202s 11ms/step - loss: 6535953.0000 - mse: 6535949.5000\n",
      "Epoch 41/100\n",
      "18176/18176 [==============================] - 207s 11ms/step - loss: 6507378.0000 - mse: 6507375.5000\n",
      "Epoch 42/100\n",
      "18176/18176 [==============================] - 196s 11ms/step - loss: 6507957.5000 - mse: 6507954.0000\n",
      "Epoch 43/100\n",
      "18176/18176 [==============================] - 191s 10ms/step - loss: 6501327.5000 - mse: 6501324.0000\n",
      "Epoch 44/100\n",
      "18176/18176 [==============================] - 205s 11ms/step - loss: 6484961.0000 - mse: 6484959.5000\n",
      "Epoch 45/100\n",
      "18176/18176 [==============================] - 202s 11ms/step - loss: 6471479.5000 - mse: 6471476.0000\n",
      "Epoch 46/100\n",
      "18176/18176 [==============================] - 206s 11ms/step - loss: 6437960.0000 - mse: 6437957.0000\n",
      "Epoch 47/100\n",
      "18176/18176 [==============================] - 203s 11ms/step - loss: 6434456.5000 - mse: 6434453.5000\n",
      "Epoch 48/100\n",
      "18176/18176 [==============================] - 195s 11ms/step - loss: 6399412.0000 - mse: 6399407.5000\n",
      "Epoch 49/100\n",
      "18176/18176 [==============================] - 204s 11ms/step - loss: 6387499.0000 - mse: 6387496.0000\n",
      "Epoch 50/100\n",
      "18176/18176 [==============================] - 202s 11ms/step - loss: 6400818.5000 - mse: 6400814.0000\n",
      "Epoch 51/100\n",
      "18176/18176 [==============================] - 198s 11ms/step - loss: 6374438.0000 - mse: 6374434.5000\n",
      "Epoch 52/100\n",
      "18176/18176 [==============================] - 193s 11ms/step - loss: 6357543.0000 - mse: 6357540.0000\n",
      "Epoch 53/100\n",
      "18176/18176 [==============================] - 191s 11ms/step - loss: 6341072.5000 - mse: 6341068.5000\n",
      "Epoch 54/100\n",
      "18176/18176 [==============================] - 199s 11ms/step - loss: 6321842.0000 - mse: 6321836.0000\n",
      "Epoch 55/100\n",
      "18176/18176 [==============================] - 202s 11ms/step - loss: 6322987.0000 - mse: 6322985.0000\n",
      "Epoch 56/100\n",
      "18176/18176 [==============================] - 208s 11ms/step - loss: 6299433.5000 - mse: 6299430.0000\n",
      "Epoch 57/100\n",
      "18176/18176 [==============================] - 201s 11ms/step - loss: 6273353.5000 - mse: 6273349.0000\n",
      "Epoch 58/100\n",
      "18176/18176 [==============================] - 198s 11ms/step - loss: 6268888.0000 - mse: 6268884.0000\n",
      "Epoch 59/100\n",
      "18176/18176 [==============================] - 203s 11ms/step - loss: 6262370.5000 - mse: 6262366.5000\n",
      "Epoch 60/100\n",
      "18176/18176 [==============================] - 208s 11ms/step - loss: 6214011.0000 - mse: 6214006.0000\n",
      "Epoch 61/100\n",
      "18176/18176 [==============================] - 213s 12ms/step - loss: 6217713.0000 - mse: 6217706.5000\n",
      "Epoch 62/100\n",
      "18176/18176 [==============================] - 204s 11ms/step - loss: 6214649.5000 - mse: 6214643.5000\n",
      "Epoch 63/100\n",
      "18176/18176 [==============================] - 205s 11ms/step - loss: 6186076.0000 - mse: 6186071.0000\n",
      "Epoch 64/100\n",
      "18176/18176 [==============================] - 209s 12ms/step - loss: 6173806.5000 - mse: 6173800.5000\n",
      "Epoch 65/100\n",
      "18176/18176 [==============================] - 209s 11ms/step - loss: 6161190.5000 - mse: 6161184.5000\n",
      "Epoch 66/100\n",
      "18176/18176 [==============================] - 202s 11ms/step - loss: 6156108.5000 - mse: 6156105.0000\n",
      "Epoch 67/100\n",
      "18176/18176 [==============================] - 200s 11ms/step - loss: 6130712.5000 - mse: 6130708.0000\n",
      "Epoch 68/100\n",
      "18176/18176 [==============================] - 200s 11ms/step - loss: 6136082.0000 - mse: 6136075.0000\n",
      "Epoch 69/100\n",
      "18176/18176 [==============================] - 189s 10ms/step - loss: 6116949.5000 - mse: 6116944.5000\n",
      "Epoch 70/100\n",
      "18176/18176 [==============================] - 194s 11ms/step - loss: 6101697.0000 - mse: 6101694.0000\n",
      "Epoch 71/100\n",
      "18176/18176 [==============================] - 191s 11ms/step - loss: 6120322.5000 - mse: 6120319.0000\n",
      "Epoch 72/100\n",
      "18176/18176 [==============================] - 191s 11ms/step - loss: 6082968.5000 - mse: 6082961.0000\n",
      "Epoch 73/100\n",
      "18176/18176 [==============================] - 194s 11ms/step - loss: 6069708.5000 - mse: 6069704.5000\n",
      "Epoch 74/100\n",
      "18176/18176 [==============================] - 190s 10ms/step - loss: 6075118.5000 - mse: 6075111.0000\n",
      "Epoch 75/100\n",
      "18176/18176 [==============================] - 193s 11ms/step - loss: 6046858.5000 - mse: 6046850.0000\n",
      "Epoch 76/100\n",
      "18176/18176 [==============================] - 192s 11ms/step - loss: 6033110.0000 - mse: 6033104.5000\n",
      "Epoch 77/100\n",
      "18176/18176 [==============================] - 194s 11ms/step - loss: 6013090.0000 - mse: 6013087.0000\n",
      "Epoch 78/100\n",
      "18176/18176 [==============================] - 196s 11ms/step - loss: 6019443.5000 - mse: 6019438.0000\n",
      "Epoch 79/100\n",
      "18176/18176 [==============================] - 192s 11ms/step - loss: 6001087.5000 - mse: 6001083.0000\n",
      "Epoch 80/100\n",
      "18176/18176 [==============================] - 196s 11ms/step - loss: 5988644.5000 - mse: 5988640.5000\n",
      "Epoch 81/100\n",
      "18176/18176 [==============================] - 198s 11ms/step - loss: 5967250.5000 - mse: 5967246.5000\n",
      "Epoch 82/100\n",
      "18176/18176 [==============================] - 190s 10ms/step - loss: 5970083.0000 - mse: 5970079.0000\n",
      "Epoch 83/100\n",
      "18176/18176 [==============================] - 191s 10ms/step - loss: 5943387.0000 - mse: 5943381.0000\n",
      "Epoch 84/100\n",
      "18176/18176 [==============================] - 195s 11ms/step - loss: 5941484.5000 - mse: 5941478.5000\n",
      "Epoch 85/100\n",
      "18176/18176 [==============================] - 193s 11ms/step - loss: 5917142.0000 - mse: 5917134.5000\n",
      "Epoch 86/100\n",
      "18176/18176 [==============================] - 196s 11ms/step - loss: 5897172.0000 - mse: 5897168.5000\n",
      "Epoch 87/100\n",
      "18176/18176 [==============================] - 194s 11ms/step - loss: 5894668.0000 - mse: 5894662.0000\n",
      "Epoch 88/100\n",
      "18176/18176 [==============================] - 195s 11ms/step - loss: 5888035.5000 - mse: 5888028.5000\n",
      "Epoch 89/100\n",
      "18176/18176 [==============================] - 196s 11ms/step - loss: 5880141.0000 - mse: 5880137.5000\n",
      "Epoch 90/100\n",
      "18176/18176 [==============================] - 197s 11ms/step - loss: 5870734.5000 - mse: 5870730.0000\n",
      "Epoch 91/100\n",
      "18176/18176 [==============================] - 193s 11ms/step - loss: 5850322.0000 - mse: 5850311.5000\n",
      "Epoch 92/100\n",
      "18176/18176 [==============================] - 194s 11ms/step - loss: 5851069.5000 - mse: 5851063.0000\n",
      "Epoch 93/100\n",
      "18176/18176 [==============================] - 194s 11ms/step - loss: 6363895.5000 - mse: 6363889.0000\n",
      "Epoch 94/100\n",
      "18176/18176 [==============================] - 195s 11ms/step - loss: 5879756.0000 - mse: 5879748.0000\n",
      "Epoch 95/100\n",
      "18176/18176 [==============================] - 194s 11ms/step - loss: 5834214.5000 - mse: 5834208.5000\n",
      "Epoch 96/100\n",
      "18176/18176 [==============================] - 192s 11ms/step - loss: 5801022.5000 - mse: 5801016.5000\n",
      "Epoch 97/100\n",
      "18176/18176 [==============================] - 198s 11ms/step - loss: 5802207.5000 - mse: 5802204.0000\n",
      "Epoch 98/100\n",
      "18176/18176 [==============================] - 195s 11ms/step - loss: 5813287.5000 - mse: 5813281.0000\n",
      "Epoch 99/100\n",
      "18176/18176 [==============================] - 203s 11ms/step - loss: 5776021.5000 - mse: 5776015.0000\n",
      "Epoch 100/100\n",
      "18176/18176 [==============================] - 207s 11ms/step - loss: 5760623.0000 - mse: 5760616.0000\n"
     ]
    }
   ],
   "source": [
    "lstm_model = model.fit(x_train, y_train, epochs=100, verbose=1)"
   ]
  },
  {
   "cell_type": "code",
   "execution_count": 44,
   "metadata": {
    "executionInfo": {
     "elapsed": 9246,
     "status": "ok",
     "timestamp": 1607460350669,
     "user": {
      "displayName": "Sriram Murali",
      "photoUrl": "",
      "userId": "12278342188158829641"
     },
     "user_tz": -330
    },
    "id": "TC0oOiUp3wrS"
   },
   "outputs": [],
   "source": [
    "predict = model.predict(x_test)"
   ]
  },
  {
   "cell_type": "code",
   "execution_count": 49,
   "metadata": {
    "executionInfo": {
     "elapsed": 497,
     "status": "ok",
     "timestamp": 1607461330947,
     "user": {
      "displayName": "Sriram Murali",
      "photoUrl": "",
      "userId": "12278342188158829641"
     },
     "user_tz": -330
    },
    "id": "jAoLtSBR3wrS"
   },
   "outputs": [],
   "source": [
    "from sklearn import metrics"
   ]
  },
  {
   "cell_type": "code",
   "execution_count": 55,
   "metadata": {
    "colab": {
     "base_uri": "https://localhost:8080/"
    },
    "executionInfo": {
     "elapsed": 548,
     "status": "ok",
     "timestamp": 1607463250080,
     "user": {
      "displayName": "Sriram Murali",
      "photoUrl": "",
      "userId": "12278342188158829641"
     },
     "user_tz": -330
    },
    "id": "crpzhgETIS6U",
    "outputId": "526e026b-3ca4-4154-e0e6-8105300b4c90"
   },
   "outputs": [
    {
     "name": "stdout",
     "output_type": "stream",
     "text": [
      "39.66995854903035\n",
      "4278108.478787572\n",
      "2068.3588853938218\n"
     ]
    }
   ],
   "source": [
    "# Print the results of MAE\n",
    "print(np.sqrt(metrics.mean_absolute_error(y_test, predict)))\n",
    "\n",
    "# Print the results of MSE\n",
    "print(metrics.mean_squared_error(y_test, predict))\n",
    "\n",
    "# Print the results of RMSE\n",
    "print(np.sqrt(metrics.mean_squared_error(y_test, predict)))"
   ]
  }
 ],
 "metadata": {
  "accelerator": "TPU",
  "colab": {
   "name": "Copy of NN Assignment-2-checkpoint.ipynb",
   "provenance": [
    {
     "file_id": "1wAsbOVFNpw2WcfOr5rCb1YBoulNRcXmX",
     "timestamp": 1607463366510
    }
   ],
   "toc_visible": true
  },
  "kernelspec": {
   "display_name": "Python 3",
   "language": "python",
   "name": "python3"
  },
  "language_info": {
   "codemirror_mode": {
    "name": "ipython",
    "version": 3
   },
   "file_extension": ".py",
   "mimetype": "text/x-python",
   "name": "python",
   "nbconvert_exporter": "python",
   "pygments_lexer": "ipython3",
   "version": "3.7.9"
  }
 },
 "nbformat": 4,
 "nbformat_minor": 1
}
