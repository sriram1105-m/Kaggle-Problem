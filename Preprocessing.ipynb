{
 "cells": [
  {
   "cell_type": "markdown",
   "metadata": {},
   "source": [
    "# Group 7 Project"
   ]
  },
  {
   "cell_type": "code",
   "execution_count": 1,
   "metadata": {},
   "outputs": [],
   "source": [
    "import numpy as np\n",
    "import pandas as pd\n",
    "import matplotlib as plt\n",
    "import datetime\n",
    "import tensorflow as tf"
   ]
  },
  {
   "cell_type": "markdown",
   "metadata": {},
   "source": [
    "## Retrieving Data"
   ]
  },
  {
   "cell_type": "code",
   "execution_count": 2,
   "metadata": {},
   "outputs": [
    {
     "name": "stderr",
     "output_type": "stream",
     "text": [
      "/usr/local/lib/python3.8/site-packages/IPython/core/interactiveshell.py:3145: DtypeWarning: Columns (7) have mixed types.Specify dtype option on import or set low_memory=False.\n",
      "  has_raised = await self.run_ast_nodes(code_ast.body, cell_name,\n"
     ]
    }
   ],
   "source": [
    "df = pd.read_csv(\"train.csv\")\n",
    "store_df = pd.read_csv(\"store.csv\")"
   ]
  },
  {
   "cell_type": "markdown",
   "metadata": {},
   "source": [
    "## Data Processing"
   ]
  },
  {
   "cell_type": "markdown",
   "metadata": {},
   "source": [
    "Remove any closed stores or stores with 0 sales:"
   ]
  },
  {
   "cell_type": "code",
   "execution_count": 3,
   "metadata": {},
   "outputs": [],
   "source": [
    "df = df.drop(df[df.Open == 0].index)\n",
    "df = df.drop(df[df.Sales == 0].index)"
   ]
  },
  {
   "cell_type": "markdown",
   "metadata": {},
   "source": [
    "Convert for time series:"
   ]
  },
  {
   "cell_type": "code",
   "execution_count": 4,
   "metadata": {},
   "outputs": [],
   "source": [
    "df['Date'] = df['Date'].astype('datetime64[ns]')"
   ]
  },
  {
   "cell_type": "markdown",
   "metadata": {},
   "source": [
    "Merge the two dataframes:"
   ]
  },
  {
   "cell_type": "code",
   "execution_count": 5,
   "metadata": {},
   "outputs": [
    {
     "data": {
      "text/html": [
       "<div>\n",
       "<style scoped>\n",
       "    .dataframe tbody tr th:only-of-type {\n",
       "        vertical-align: middle;\n",
       "    }\n",
       "\n",
       "    .dataframe tbody tr th {\n",
       "        vertical-align: top;\n",
       "    }\n",
       "\n",
       "    .dataframe thead th {\n",
       "        text-align: right;\n",
       "    }\n",
       "</style>\n",
       "<table border=\"1\" class=\"dataframe\">\n",
       "  <thead>\n",
       "    <tr style=\"text-align: right;\">\n",
       "      <th></th>\n",
       "      <th>Store</th>\n",
       "      <th>DayOfWeek</th>\n",
       "      <th>Date</th>\n",
       "      <th>Sales</th>\n",
       "      <th>Customers</th>\n",
       "      <th>Open</th>\n",
       "      <th>Promo</th>\n",
       "      <th>StateHoliday</th>\n",
       "      <th>SchoolHoliday</th>\n",
       "      <th>StoreType</th>\n",
       "      <th>Assortment</th>\n",
       "      <th>CompetitionDistance</th>\n",
       "      <th>CompetitionOpenSinceMonth</th>\n",
       "      <th>CompetitionOpenSinceYear</th>\n",
       "      <th>Promo2</th>\n",
       "      <th>Promo2SinceWeek</th>\n",
       "      <th>Promo2SinceYear</th>\n",
       "      <th>PromoInterval</th>\n",
       "    </tr>\n",
       "  </thead>\n",
       "  <tbody>\n",
       "    <tr>\n",
       "      <th>0</th>\n",
       "      <td>1</td>\n",
       "      <td>5</td>\n",
       "      <td>2015-07-31</td>\n",
       "      <td>5263</td>\n",
       "      <td>555</td>\n",
       "      <td>1</td>\n",
       "      <td>1</td>\n",
       "      <td>0</td>\n",
       "      <td>1</td>\n",
       "      <td>c</td>\n",
       "      <td>a</td>\n",
       "      <td>1270.0</td>\n",
       "      <td>9.0</td>\n",
       "      <td>2008.0</td>\n",
       "      <td>0</td>\n",
       "      <td>NaN</td>\n",
       "      <td>NaN</td>\n",
       "      <td>NaN</td>\n",
       "    </tr>\n",
       "    <tr>\n",
       "      <th>1</th>\n",
       "      <td>1</td>\n",
       "      <td>4</td>\n",
       "      <td>2015-07-30</td>\n",
       "      <td>5020</td>\n",
       "      <td>546</td>\n",
       "      <td>1</td>\n",
       "      <td>1</td>\n",
       "      <td>0</td>\n",
       "      <td>1</td>\n",
       "      <td>c</td>\n",
       "      <td>a</td>\n",
       "      <td>1270.0</td>\n",
       "      <td>9.0</td>\n",
       "      <td>2008.0</td>\n",
       "      <td>0</td>\n",
       "      <td>NaN</td>\n",
       "      <td>NaN</td>\n",
       "      <td>NaN</td>\n",
       "    </tr>\n",
       "    <tr>\n",
       "      <th>2</th>\n",
       "      <td>1</td>\n",
       "      <td>3</td>\n",
       "      <td>2015-07-29</td>\n",
       "      <td>4782</td>\n",
       "      <td>523</td>\n",
       "      <td>1</td>\n",
       "      <td>1</td>\n",
       "      <td>0</td>\n",
       "      <td>1</td>\n",
       "      <td>c</td>\n",
       "      <td>a</td>\n",
       "      <td>1270.0</td>\n",
       "      <td>9.0</td>\n",
       "      <td>2008.0</td>\n",
       "      <td>0</td>\n",
       "      <td>NaN</td>\n",
       "      <td>NaN</td>\n",
       "      <td>NaN</td>\n",
       "    </tr>\n",
       "    <tr>\n",
       "      <th>3</th>\n",
       "      <td>1</td>\n",
       "      <td>2</td>\n",
       "      <td>2015-07-28</td>\n",
       "      <td>5011</td>\n",
       "      <td>560</td>\n",
       "      <td>1</td>\n",
       "      <td>1</td>\n",
       "      <td>0</td>\n",
       "      <td>1</td>\n",
       "      <td>c</td>\n",
       "      <td>a</td>\n",
       "      <td>1270.0</td>\n",
       "      <td>9.0</td>\n",
       "      <td>2008.0</td>\n",
       "      <td>0</td>\n",
       "      <td>NaN</td>\n",
       "      <td>NaN</td>\n",
       "      <td>NaN</td>\n",
       "    </tr>\n",
       "    <tr>\n",
       "      <th>4</th>\n",
       "      <td>1</td>\n",
       "      <td>1</td>\n",
       "      <td>2015-07-27</td>\n",
       "      <td>6102</td>\n",
       "      <td>612</td>\n",
       "      <td>1</td>\n",
       "      <td>1</td>\n",
       "      <td>0</td>\n",
       "      <td>1</td>\n",
       "      <td>c</td>\n",
       "      <td>a</td>\n",
       "      <td>1270.0</td>\n",
       "      <td>9.0</td>\n",
       "      <td>2008.0</td>\n",
       "      <td>0</td>\n",
       "      <td>NaN</td>\n",
       "      <td>NaN</td>\n",
       "      <td>NaN</td>\n",
       "    </tr>\n",
       "  </tbody>\n",
       "</table>\n",
       "</div>"
      ],
      "text/plain": [
       "   Store  DayOfWeek       Date  Sales  Customers  Open  Promo StateHoliday  \\\n",
       "0      1          5 2015-07-31   5263        555     1      1            0   \n",
       "1      1          4 2015-07-30   5020        546     1      1            0   \n",
       "2      1          3 2015-07-29   4782        523     1      1            0   \n",
       "3      1          2 2015-07-28   5011        560     1      1            0   \n",
       "4      1          1 2015-07-27   6102        612     1      1            0   \n",
       "\n",
       "   SchoolHoliday StoreType Assortment  CompetitionDistance  \\\n",
       "0              1         c          a               1270.0   \n",
       "1              1         c          a               1270.0   \n",
       "2              1         c          a               1270.0   \n",
       "3              1         c          a               1270.0   \n",
       "4              1         c          a               1270.0   \n",
       "\n",
       "   CompetitionOpenSinceMonth  CompetitionOpenSinceYear  Promo2  \\\n",
       "0                        9.0                    2008.0       0   \n",
       "1                        9.0                    2008.0       0   \n",
       "2                        9.0                    2008.0       0   \n",
       "3                        9.0                    2008.0       0   \n",
       "4                        9.0                    2008.0       0   \n",
       "\n",
       "   Promo2SinceWeek  Promo2SinceYear PromoInterval  \n",
       "0              NaN              NaN           NaN  \n",
       "1              NaN              NaN           NaN  \n",
       "2              NaN              NaN           NaN  \n",
       "3              NaN              NaN           NaN  \n",
       "4              NaN              NaN           NaN  "
      ]
     },
     "execution_count": 5,
     "metadata": {},
     "output_type": "execute_result"
    }
   ],
   "source": [
    "df = pd.merge(df, store_df, how='inner', on='Store')\n",
    "df.head()"
   ]
  },
  {
   "cell_type": "code",
   "execution_count": 6,
   "metadata": {},
   "outputs": [
    {
     "name": "stdout",
     "output_type": "stream",
     "text": [
      "<class 'pandas.core.frame.DataFrame'>\n",
      "Int64Index: 844338 entries, 0 to 844337\n",
      "Data columns (total 18 columns):\n",
      " #   Column                     Non-Null Count   Dtype         \n",
      "---  ------                     --------------   -----         \n",
      " 0   Store                      844338 non-null  int64         \n",
      " 1   DayOfWeek                  844338 non-null  int64         \n",
      " 2   Date                       844338 non-null  datetime64[ns]\n",
      " 3   Sales                      844338 non-null  int64         \n",
      " 4   Customers                  844338 non-null  int64         \n",
      " 5   Open                       844338 non-null  int64         \n",
      " 6   Promo                      844338 non-null  int64         \n",
      " 7   StateHoliday               844338 non-null  object        \n",
      " 8   SchoolHoliday              844338 non-null  int64         \n",
      " 9   StoreType                  844338 non-null  object        \n",
      " 10  Assortment                 844338 non-null  object        \n",
      " 11  CompetitionDistance        842152 non-null  float64       \n",
      " 12  CompetitionOpenSinceMonth  575738 non-null  float64       \n",
      " 13  CompetitionOpenSinceYear   575738 non-null  float64       \n",
      " 14  Promo2                     844338 non-null  int64         \n",
      " 15  Promo2SinceWeek            421046 non-null  float64       \n",
      " 16  Promo2SinceYear            421046 non-null  float64       \n",
      " 17  PromoInterval              421046 non-null  object        \n",
      "dtypes: datetime64[ns](1), float64(5), int64(8), object(4)\n",
      "memory usage: 122.4+ MB\n"
     ]
    }
   ],
   "source": [
    "df.info()"
   ]
  },
  {
   "cell_type": "markdown",
   "metadata": {},
   "source": [
    "### Handling Missing Values"
   ]
  },
  {
   "cell_type": "code",
   "execution_count": 7,
   "metadata": {},
   "outputs": [
    {
     "data": {
      "text/plain": [
       "Store                             0\n",
       "DayOfWeek                         0\n",
       "Date                              0\n",
       "Sales                             0\n",
       "Customers                         0\n",
       "Open                              0\n",
       "Promo                             0\n",
       "StateHoliday                      0\n",
       "SchoolHoliday                     0\n",
       "StoreType                         0\n",
       "Assortment                        0\n",
       "CompetitionDistance            2186\n",
       "CompetitionOpenSinceMonth    268600\n",
       "CompetitionOpenSinceYear     268600\n",
       "Promo2                            0\n",
       "Promo2SinceWeek              423292\n",
       "Promo2SinceYear              423292\n",
       "PromoInterval                423292\n",
       "dtype: int64"
      ]
     },
     "execution_count": 7,
     "metadata": {},
     "output_type": "execute_result"
    }
   ],
   "source": [
    "df.isnull().sum()"
   ]
  },
  {
   "cell_type": "code",
   "execution_count": 8,
   "metadata": {},
   "outputs": [],
   "source": [
    "#Since there are only 3 missing values replace with median\n",
    "df['CompetitionDistance'].fillna(df['CompetitionDistance'].median(), inplace = True)\n",
    "\n",
    "#fill the rest with 0\n",
    "df.fillna(0, inplace = True)"
   ]
  },
  {
   "cell_type": "markdown",
   "metadata": {},
   "source": [
    "## Feature Engineering"
   ]
  },
  {
   "cell_type": "markdown",
   "metadata": {},
   "source": [
    "Replace '0' with na values:"
   ]
  },
  {
   "cell_type": "code",
   "execution_count": 9,
   "metadata": {},
   "outputs": [
    {
     "data": {
      "text/plain": [
       "array([nan, 'a', 'b', 'c'], dtype=object)"
      ]
     },
     "execution_count": 9,
     "metadata": {},
     "output_type": "execute_result"
    }
   ],
   "source": [
    "df['StateHoliday'] = df.StateHoliday.replace([0, '0'], np.nan)\n",
    "df.StateHoliday.unique()"
   ]
  },
  {
   "cell_type": "markdown",
   "metadata": {},
   "source": [
    "### Dummy Encoding"
   ]
  },
  {
   "cell_type": "code",
   "execution_count": 10,
   "metadata": {},
   "outputs": [],
   "source": [
    "dummy_columns = ['StoreType', 'Assortment', 'StateHoliday']\n",
    "df = pd.get_dummies(df, columns=dummy_columns)"
   ]
  },
  {
   "cell_type": "code",
   "execution_count": 11,
   "metadata": {},
   "outputs": [
    {
     "data": {
      "text/html": [
       "<div>\n",
       "<style scoped>\n",
       "    .dataframe tbody tr th:only-of-type {\n",
       "        vertical-align: middle;\n",
       "    }\n",
       "\n",
       "    .dataframe tbody tr th {\n",
       "        vertical-align: top;\n",
       "    }\n",
       "\n",
       "    .dataframe thead th {\n",
       "        text-align: right;\n",
       "    }\n",
       "</style>\n",
       "<table border=\"1\" class=\"dataframe\">\n",
       "  <thead>\n",
       "    <tr style=\"text-align: right;\">\n",
       "      <th></th>\n",
       "      <th>Store</th>\n",
       "      <th>DayOfWeek</th>\n",
       "      <th>Date</th>\n",
       "      <th>Sales</th>\n",
       "      <th>Customers</th>\n",
       "      <th>Open</th>\n",
       "      <th>Promo</th>\n",
       "      <th>SchoolHoliday</th>\n",
       "      <th>CompetitionDistance</th>\n",
       "      <th>CompetitionOpenSinceMonth</th>\n",
       "      <th>...</th>\n",
       "      <th>StoreType_a</th>\n",
       "      <th>StoreType_b</th>\n",
       "      <th>StoreType_c</th>\n",
       "      <th>StoreType_d</th>\n",
       "      <th>Assortment_a</th>\n",
       "      <th>Assortment_b</th>\n",
       "      <th>Assortment_c</th>\n",
       "      <th>StateHoliday_a</th>\n",
       "      <th>StateHoliday_b</th>\n",
       "      <th>StateHoliday_c</th>\n",
       "    </tr>\n",
       "  </thead>\n",
       "  <tbody>\n",
       "    <tr>\n",
       "      <th>0</th>\n",
       "      <td>1</td>\n",
       "      <td>5</td>\n",
       "      <td>2015-07-31</td>\n",
       "      <td>5263</td>\n",
       "      <td>555</td>\n",
       "      <td>1</td>\n",
       "      <td>1</td>\n",
       "      <td>1</td>\n",
       "      <td>1270.0</td>\n",
       "      <td>9.0</td>\n",
       "      <td>...</td>\n",
       "      <td>0</td>\n",
       "      <td>0</td>\n",
       "      <td>1</td>\n",
       "      <td>0</td>\n",
       "      <td>1</td>\n",
       "      <td>0</td>\n",
       "      <td>0</td>\n",
       "      <td>0</td>\n",
       "      <td>0</td>\n",
       "      <td>0</td>\n",
       "    </tr>\n",
       "    <tr>\n",
       "      <th>1</th>\n",
       "      <td>1</td>\n",
       "      <td>4</td>\n",
       "      <td>2015-07-30</td>\n",
       "      <td>5020</td>\n",
       "      <td>546</td>\n",
       "      <td>1</td>\n",
       "      <td>1</td>\n",
       "      <td>1</td>\n",
       "      <td>1270.0</td>\n",
       "      <td>9.0</td>\n",
       "      <td>...</td>\n",
       "      <td>0</td>\n",
       "      <td>0</td>\n",
       "      <td>1</td>\n",
       "      <td>0</td>\n",
       "      <td>1</td>\n",
       "      <td>0</td>\n",
       "      <td>0</td>\n",
       "      <td>0</td>\n",
       "      <td>0</td>\n",
       "      <td>0</td>\n",
       "    </tr>\n",
       "    <tr>\n",
       "      <th>2</th>\n",
       "      <td>1</td>\n",
       "      <td>3</td>\n",
       "      <td>2015-07-29</td>\n",
       "      <td>4782</td>\n",
       "      <td>523</td>\n",
       "      <td>1</td>\n",
       "      <td>1</td>\n",
       "      <td>1</td>\n",
       "      <td>1270.0</td>\n",
       "      <td>9.0</td>\n",
       "      <td>...</td>\n",
       "      <td>0</td>\n",
       "      <td>0</td>\n",
       "      <td>1</td>\n",
       "      <td>0</td>\n",
       "      <td>1</td>\n",
       "      <td>0</td>\n",
       "      <td>0</td>\n",
       "      <td>0</td>\n",
       "      <td>0</td>\n",
       "      <td>0</td>\n",
       "    </tr>\n",
       "    <tr>\n",
       "      <th>3</th>\n",
       "      <td>1</td>\n",
       "      <td>2</td>\n",
       "      <td>2015-07-28</td>\n",
       "      <td>5011</td>\n",
       "      <td>560</td>\n",
       "      <td>1</td>\n",
       "      <td>1</td>\n",
       "      <td>1</td>\n",
       "      <td>1270.0</td>\n",
       "      <td>9.0</td>\n",
       "      <td>...</td>\n",
       "      <td>0</td>\n",
       "      <td>0</td>\n",
       "      <td>1</td>\n",
       "      <td>0</td>\n",
       "      <td>1</td>\n",
       "      <td>0</td>\n",
       "      <td>0</td>\n",
       "      <td>0</td>\n",
       "      <td>0</td>\n",
       "      <td>0</td>\n",
       "    </tr>\n",
       "    <tr>\n",
       "      <th>4</th>\n",
       "      <td>1</td>\n",
       "      <td>1</td>\n",
       "      <td>2015-07-27</td>\n",
       "      <td>6102</td>\n",
       "      <td>612</td>\n",
       "      <td>1</td>\n",
       "      <td>1</td>\n",
       "      <td>1</td>\n",
       "      <td>1270.0</td>\n",
       "      <td>9.0</td>\n",
       "      <td>...</td>\n",
       "      <td>0</td>\n",
       "      <td>0</td>\n",
       "      <td>1</td>\n",
       "      <td>0</td>\n",
       "      <td>1</td>\n",
       "      <td>0</td>\n",
       "      <td>0</td>\n",
       "      <td>0</td>\n",
       "      <td>0</td>\n",
       "      <td>0</td>\n",
       "    </tr>\n",
       "  </tbody>\n",
       "</table>\n",
       "<p>5 rows × 25 columns</p>\n",
       "</div>"
      ],
      "text/plain": [
       "   Store  DayOfWeek       Date  Sales  Customers  Open  Promo  SchoolHoliday  \\\n",
       "0      1          5 2015-07-31   5263        555     1      1              1   \n",
       "1      1          4 2015-07-30   5020        546     1      1              1   \n",
       "2      1          3 2015-07-29   4782        523     1      1              1   \n",
       "3      1          2 2015-07-28   5011        560     1      1              1   \n",
       "4      1          1 2015-07-27   6102        612     1      1              1   \n",
       "\n",
       "   CompetitionDistance  CompetitionOpenSinceMonth  ...  StoreType_a  \\\n",
       "0               1270.0                        9.0  ...            0   \n",
       "1               1270.0                        9.0  ...            0   \n",
       "2               1270.0                        9.0  ...            0   \n",
       "3               1270.0                        9.0  ...            0   \n",
       "4               1270.0                        9.0  ...            0   \n",
       "\n",
       "   StoreType_b  StoreType_c  StoreType_d Assortment_a  Assortment_b  \\\n",
       "0            0            1            0            1             0   \n",
       "1            0            1            0            1             0   \n",
       "2            0            1            0            1             0   \n",
       "3            0            1            0            1             0   \n",
       "4            0            1            0            1             0   \n",
       "\n",
       "   Assortment_c  StateHoliday_a  StateHoliday_b  StateHoliday_c  \n",
       "0             0               0               0               0  \n",
       "1             0               0               0               0  \n",
       "2             0               0               0               0  \n",
       "3             0               0               0               0  \n",
       "4             0               0               0               0  \n",
       "\n",
       "[5 rows x 25 columns]"
      ]
     },
     "execution_count": 11,
     "metadata": {},
     "output_type": "execute_result"
    }
   ],
   "source": [
    "df.head()"
   ]
  },
  {
   "cell_type": "code",
   "execution_count": 12,
   "metadata": {},
   "outputs": [
    {
     "name": "stdout",
     "output_type": "stream",
     "text": [
      "<class 'pandas.core.frame.DataFrame'>\n",
      "Int64Index: 844338 entries, 0 to 844337\n",
      "Data columns (total 25 columns):\n",
      " #   Column                     Non-Null Count   Dtype         \n",
      "---  ------                     --------------   -----         \n",
      " 0   Store                      844338 non-null  int64         \n",
      " 1   DayOfWeek                  844338 non-null  int64         \n",
      " 2   Date                       844338 non-null  datetime64[ns]\n",
      " 3   Sales                      844338 non-null  int64         \n",
      " 4   Customers                  844338 non-null  int64         \n",
      " 5   Open                       844338 non-null  int64         \n",
      " 6   Promo                      844338 non-null  int64         \n",
      " 7   SchoolHoliday              844338 non-null  int64         \n",
      " 8   CompetitionDistance        844338 non-null  float64       \n",
      " 9   CompetitionOpenSinceMonth  844338 non-null  float64       \n",
      " 10  CompetitionOpenSinceYear   844338 non-null  float64       \n",
      " 11  Promo2                     844338 non-null  int64         \n",
      " 12  Promo2SinceWeek            844338 non-null  float64       \n",
      " 13  Promo2SinceYear            844338 non-null  float64       \n",
      " 14  PromoInterval              844338 non-null  object        \n",
      " 15  StoreType_a                844338 non-null  uint8         \n",
      " 16  StoreType_b                844338 non-null  uint8         \n",
      " 17  StoreType_c                844338 non-null  uint8         \n",
      " 18  StoreType_d                844338 non-null  uint8         \n",
      " 19  Assortment_a               844338 non-null  uint8         \n",
      " 20  Assortment_b               844338 non-null  uint8         \n",
      " 21  Assortment_c               844338 non-null  uint8         \n",
      " 22  StateHoliday_a             844338 non-null  uint8         \n",
      " 23  StateHoliday_b             844338 non-null  uint8         \n",
      " 24  StateHoliday_c             844338 non-null  uint8         \n",
      "dtypes: datetime64[ns](1), float64(5), int64(8), object(1), uint8(10)\n",
      "memory usage: 111.1+ MB\n"
     ]
    }
   ],
   "source": [
    "df.info()"
   ]
  },
  {
   "cell_type": "markdown",
   "metadata": {},
   "source": [
    "### Working with Time"
   ]
  },
  {
   "cell_type": "code",
   "execution_count": 13,
   "metadata": {},
   "outputs": [
    {
     "name": "stderr",
     "output_type": "stream",
     "text": [
      "<ipython-input-13-d58d24e736d5>:5: FutureWarning: Series.dt.weekofyear and Series.dt.week have been deprecated.  Please use Series.dt.isocalendar().week instead.\n",
      "  df['Weekofyear'] = df['Date'].dt.weekofyear\n"
     ]
    }
   ],
   "source": [
    "#Splitting the Date as Day, month and year and adding 3 new columns\n",
    "df['Day'] = df['Date'].dt.day\n",
    "df['Month'] = df['Date'].dt.month\n",
    "df['Year'] = df['Date'].dt.year\n",
    "df['Weekofyear'] = df['Date'].dt.weekofyear"
   ]
  },
  {
   "cell_type": "code",
   "execution_count": 14,
   "metadata": {},
   "outputs": [],
   "source": [
    "#How long the competition has been open\n",
    "df['CompetitionOpen'] = 12 * (df.Year - df.CompetitionOpenSinceYear) + (df.Month - df.CompetitionOpenSinceMonth)"
   ]
  },
  {
   "cell_type": "code",
   "execution_count": 15,
   "metadata": {},
   "outputs": [],
   "source": [
    "#How long the promo has been running\n",
    "df['PromoOpen'] = 12 * (df.Year - df.Promo2SinceYear) + (df.Weekofyear - df.Promo2SinceWeek) / 4.0"
   ]
  },
  {
   "cell_type": "code",
   "execution_count": 16,
   "metadata": {},
   "outputs": [],
   "source": [
    "df = df.drop(columns=['Weekofyear','Promo2SinceWeek', 'CompetitionOpenSinceMonth', 'Promo2SinceYear', 'CompetitionOpenSinceYear', 'Open', 'PromoInterval'])"
   ]
  },
  {
   "cell_type": "code",
   "execution_count": 17,
   "metadata": {},
   "outputs": [
    {
     "name": "stdout",
     "output_type": "stream",
     "text": [
      "<class 'pandas.core.frame.DataFrame'>\n",
      "Int64Index: 844338 entries, 0 to 844337\n",
      "Data columns (total 24 columns):\n",
      " #   Column               Non-Null Count   Dtype         \n",
      "---  ------               --------------   -----         \n",
      " 0   Store                844338 non-null  int64         \n",
      " 1   DayOfWeek            844338 non-null  int64         \n",
      " 2   Date                 844338 non-null  datetime64[ns]\n",
      " 3   Sales                844338 non-null  int64         \n",
      " 4   Customers            844338 non-null  int64         \n",
      " 5   Promo                844338 non-null  int64         \n",
      " 6   SchoolHoliday        844338 non-null  int64         \n",
      " 7   CompetitionDistance  844338 non-null  float64       \n",
      " 8   Promo2               844338 non-null  int64         \n",
      " 9   StoreType_a          844338 non-null  uint8         \n",
      " 10  StoreType_b          844338 non-null  uint8         \n",
      " 11  StoreType_c          844338 non-null  uint8         \n",
      " 12  StoreType_d          844338 non-null  uint8         \n",
      " 13  Assortment_a         844338 non-null  uint8         \n",
      " 14  Assortment_b         844338 non-null  uint8         \n",
      " 15  Assortment_c         844338 non-null  uint8         \n",
      " 16  StateHoliday_a       844338 non-null  uint8         \n",
      " 17  StateHoliday_b       844338 non-null  uint8         \n",
      " 18  StateHoliday_c       844338 non-null  uint8         \n",
      " 19  Day                  844338 non-null  int64         \n",
      " 20  Month                844338 non-null  int64         \n",
      " 21  Year                 844338 non-null  int64         \n",
      " 22  CompetitionOpen      844338 non-null  float64       \n",
      " 23  PromoOpen            844338 non-null  float64       \n",
      "dtypes: datetime64[ns](1), float64(3), int64(10), uint8(10)\n",
      "memory usage: 104.7 MB\n"
     ]
    }
   ],
   "source": [
    "df.info()"
   ]
  },
  {
   "cell_type": "code",
   "execution_count": 18,
   "metadata": {},
   "outputs": [],
   "source": [
    "#replace competitiondistance with furthest variable\n",
    "df['CompetitionDistance'] = df.CompetitionDistance.replace(np.nan, df['CompetitionDistance'].max())\n",
    "                                                           \n",
    "#Competittion Open - use mean\n",
    "df['CompetitionOpen'] = df.CompetitionOpen.replace(np.nan, df['CompetitionOpen'].max())\n",
    "\n",
    "#PromoOpen - recode missing as 0\n",
    "df['PromoOpen'] = df.PromoOpen.replace(np.nan, 0)"
   ]
  },
  {
   "cell_type": "code",
   "execution_count": 19,
   "metadata": {},
   "outputs": [
    {
     "name": "stdout",
     "output_type": "stream",
     "text": [
      "<class 'pandas.core.frame.DataFrame'>\n",
      "Int64Index: 844338 entries, 0 to 844337\n",
      "Data columns (total 24 columns):\n",
      " #   Column               Non-Null Count   Dtype         \n",
      "---  ------               --------------   -----         \n",
      " 0   Store                844338 non-null  int64         \n",
      " 1   DayOfWeek            844338 non-null  int64         \n",
      " 2   Date                 844338 non-null  datetime64[ns]\n",
      " 3   Sales                844338 non-null  int64         \n",
      " 4   Customers            844338 non-null  int64         \n",
      " 5   Promo                844338 non-null  int64         \n",
      " 6   SchoolHoliday        844338 non-null  int64         \n",
      " 7   CompetitionDistance  844338 non-null  float64       \n",
      " 8   Promo2               844338 non-null  int64         \n",
      " 9   StoreType_a          844338 non-null  uint8         \n",
      " 10  StoreType_b          844338 non-null  uint8         \n",
      " 11  StoreType_c          844338 non-null  uint8         \n",
      " 12  StoreType_d          844338 non-null  uint8         \n",
      " 13  Assortment_a         844338 non-null  uint8         \n",
      " 14  Assortment_b         844338 non-null  uint8         \n",
      " 15  Assortment_c         844338 non-null  uint8         \n",
      " 16  StateHoliday_a       844338 non-null  uint8         \n",
      " 17  StateHoliday_b       844338 non-null  uint8         \n",
      " 18  StateHoliday_c       844338 non-null  uint8         \n",
      " 19  Day                  844338 non-null  int64         \n",
      " 20  Month                844338 non-null  int64         \n",
      " 21  Year                 844338 non-null  int64         \n",
      " 22  CompetitionOpen      844338 non-null  float64       \n",
      " 23  PromoOpen            844338 non-null  float64       \n",
      "dtypes: datetime64[ns](1), float64(3), int64(10), uint8(10)\n",
      "memory usage: 104.7 MB\n"
     ]
    }
   ],
   "source": [
    "df.info()"
   ]
  },
  {
   "cell_type": "markdown",
   "metadata": {},
   "source": [
    "## Removing Outliers"
   ]
  },
  {
   "cell_type": "code",
   "execution_count": 20,
   "metadata": {},
   "outputs": [
    {
     "name": "stdout",
     "output_type": "stream",
     "text": [
      "Store int64\n",
      "DayOfWeek int64\n",
      "Date datetime64[ns]\n",
      "Sales int64\n",
      "Customers int64\n",
      "Promo int64\n",
      "SchoolHoliday int64\n",
      "CompetitionDistance float64\n",
      "Promo2 int64\n",
      "StoreType_a uint8\n",
      "StoreType_b uint8\n",
      "StoreType_c uint8\n",
      "StoreType_d uint8\n",
      "Assortment_a uint8\n",
      "Assortment_b uint8\n",
      "Assortment_c uint8\n",
      "StateHoliday_a uint8\n",
      "StateHoliday_b uint8\n",
      "StateHoliday_c uint8\n",
      "Day int64\n",
      "Month int64\n",
      "Year int64\n",
      "CompetitionOpen float64\n",
      "PromoOpen float64\n"
     ]
    }
   ],
   "source": [
    "for column in df.columns:\n",
    "    print(column, df[column].dtypes)"
   ]
  },
  {
   "cell_type": "code",
   "execution_count": 21,
   "metadata": {},
   "outputs": [
    {
     "data": {
      "text/plain": [
       "array([0.54544483, 0.62373562, 0.70041548, ..., 0.88728236, 0.7654967 ,\n",
       "       0.6056933 ])"
      ]
     },
     "execution_count": 21,
     "metadata": {},
     "output_type": "execute_result"
    }
   ],
   "source": [
    "from scipy.stats import zscore\n",
    "\n",
    "z_scores = np.abs(zscore(df.Sales))\n",
    "z_scores"
   ]
  },
  {
   "cell_type": "code",
   "execution_count": 22,
   "metadata": {},
   "outputs": [
    {
     "name": "stdout",
     "output_type": "stream",
     "text": [
      "Removed data 13443\n"
     ]
    }
   ],
   "source": [
    "removed_df = df[z_scores < 3]\n",
    "print('Removed data', len(df) - len(removed_df))\n",
    "df = removed_df"
   ]
  },
  {
   "cell_type": "markdown",
   "metadata": {},
   "source": [
    "## Splitting Data"
   ]
  },
  {
   "cell_type": "code",
   "execution_count": 23,
   "metadata": {},
   "outputs": [
    {
     "name": "stdout",
     "output_type": "stream",
     "text": [
      "<class 'pandas.core.frame.DataFrame'>\n",
      "Int64Index: 830895 entries, 0 to 844337\n",
      "Data columns (total 24 columns):\n",
      " #   Column               Non-Null Count   Dtype         \n",
      "---  ------               --------------   -----         \n",
      " 0   Store                830895 non-null  int64         \n",
      " 1   DayOfWeek            830895 non-null  int64         \n",
      " 2   Date                 830895 non-null  datetime64[ns]\n",
      " 3   Sales                830895 non-null  int64         \n",
      " 4   Customers            830895 non-null  int64         \n",
      " 5   Promo                830895 non-null  int64         \n",
      " 6   SchoolHoliday        830895 non-null  int64         \n",
      " 7   CompetitionDistance  830895 non-null  float64       \n",
      " 8   Promo2               830895 non-null  int64         \n",
      " 9   StoreType_a          830895 non-null  uint8         \n",
      " 10  StoreType_b          830895 non-null  uint8         \n",
      " 11  StoreType_c          830895 non-null  uint8         \n",
      " 12  StoreType_d          830895 non-null  uint8         \n",
      " 13  Assortment_a         830895 non-null  uint8         \n",
      " 14  Assortment_b         830895 non-null  uint8         \n",
      " 15  Assortment_c         830895 non-null  uint8         \n",
      " 16  StateHoliday_a       830895 non-null  uint8         \n",
      " 17  StateHoliday_b       830895 non-null  uint8         \n",
      " 18  StateHoliday_c       830895 non-null  uint8         \n",
      " 19  Day                  830895 non-null  int64         \n",
      " 20  Month                830895 non-null  int64         \n",
      " 21  Year                 830895 non-null  int64         \n",
      " 22  CompetitionOpen      830895 non-null  float64       \n",
      " 23  PromoOpen            830895 non-null  float64       \n",
      "dtypes: datetime64[ns](1), float64(3), int64(10), uint8(10)\n",
      "memory usage: 103.0 MB\n"
     ]
    }
   ],
   "source": [
    "df.info()"
   ]
  },
  {
   "cell_type": "code",
   "execution_count": 24,
   "metadata": {},
   "outputs": [],
   "source": [
    "X = df.drop(columns=['Date','Sales','Customers','Store','StateHoliday_b','StateHoliday_c'])\n",
    "Y = df['Sales']"
   ]
  },
  {
   "cell_type": "code",
   "execution_count": 25,
   "metadata": {
    "scrolled": true
   },
   "outputs": [
    {
     "data": {
      "text/plain": [
       "array([[ 0.85442228,  1.12330986,  2.04438985, ...,  1.50221827,\n",
       "        -0.68066285,  1.00770216],\n",
       "       [ 0.27291095,  1.12330986,  2.04438985, ...,  1.50221827,\n",
       "        -0.68066285,  1.00770216],\n",
       "       [-0.30860038,  1.12330986,  2.04438985, ...,  1.50221827,\n",
       "        -0.68066285,  1.00770216],\n",
       "       ...,\n",
       "       [ 0.85442228, -0.89022632,  2.04438985, ..., -1.07021472,\n",
       "        -0.6841365 ,  1.00509311],\n",
       "       [ 0.27291095, -0.89022632,  2.04438985, ..., -1.07021472,\n",
       "        -0.6841365 ,  1.00509311],\n",
       "       [-0.30860038, -0.89022632,  2.04438985, ..., -1.07021472,\n",
       "        -0.6841365 ,  1.00509311]])"
      ]
     },
     "execution_count": 25,
     "metadata": {},
     "output_type": "execute_result"
    }
   ],
   "source": [
    "from sklearn.preprocessing import StandardScaler\n",
    "\n",
    "scaler = StandardScaler()\n",
    "scaler.fit(X)\n",
    "scaled_X = scaler.transform(X)\n",
    "scaled_X"
   ]
  },
  {
   "cell_type": "code",
   "execution_count": 26,
   "metadata": {
    "scrolled": true
   },
   "outputs": [],
   "source": [
    "from sklearn.model_selection import train_test_split\n",
    "\n",
    "x_train, x_rest, y_train, y_rest = train_test_split(scaled_X, Y, test_size=0.30)\n",
    "x_test, x_val, y_test, y_val = train_test_split(x_rest, y_rest, test_size=0.5)"
   ]
  },
  {
   "cell_type": "code",
   "execution_count": 27,
   "metadata": {},
   "outputs": [
    {
     "name": "stdout",
     "output_type": "stream",
     "text": [
      "<class 'pandas.core.frame.DataFrame'>\n",
      "Int64Index: 830895 entries, 0 to 844337\n",
      "Data columns (total 20 columns):\n",
      " #   Column               Non-Null Count   Dtype  \n",
      "---  ------               --------------   -----  \n",
      " 0   DayOfWeek            830895 non-null  int64  \n",
      " 1   Promo                830895 non-null  int64  \n",
      " 2   SchoolHoliday        830895 non-null  int64  \n",
      " 3   CompetitionDistance  830895 non-null  float64\n",
      " 4   Promo2               830895 non-null  int64  \n",
      " 5   StoreType_a          830895 non-null  uint8  \n",
      " 6   StoreType_b          830895 non-null  uint8  \n",
      " 7   StoreType_c          830895 non-null  uint8  \n",
      " 8   StoreType_d          830895 non-null  uint8  \n",
      " 9   Assortment_a         830895 non-null  uint8  \n",
      " 10  Assortment_b         830895 non-null  uint8  \n",
      " 11  Assortment_c         830895 non-null  uint8  \n",
      " 12  StateHoliday_a       830895 non-null  uint8  \n",
      " 13  StateHoliday_b       830895 non-null  uint8  \n",
      " 14  StateHoliday_c       830895 non-null  uint8  \n",
      " 15  Day                  830895 non-null  int64  \n",
      " 16  Month                830895 non-null  int64  \n",
      " 17  Year                 830895 non-null  int64  \n",
      " 18  CompetitionOpen      830895 non-null  float64\n",
      " 19  PromoOpen            830895 non-null  float64\n",
      "dtypes: float64(3), int64(7), uint8(10)\n",
      "memory usage: 77.7 MB\n"
     ]
    }
   ],
   "source": [
    "X.info()"
   ]
  },
  {
   "cell_type": "markdown",
   "metadata": {},
   "source": [
    "#### Store the data for the models"
   ]
  },
  {
   "cell_type": "code",
   "execution_count": 28,
   "metadata": {},
   "outputs": [],
   "source": [
    "from numpy import savetxt, save\n",
    "\n",
    "# Save as txt if needed in other csv format\n",
    "# savetxt('csvs/x_train.csv', x_train, delimiter=',')\n",
    "# savetxt('csvs/y_train.csv', y_train, delimiter=',')\n",
    "# savetxt('csvs/x_test.csv', x_test, delimiter=',')\n",
    "# savetxt('csvs/y_test.csv', y_test, delimiter=',')\n",
    "# savetxt('csvs/x_val.csv', x_test, delimiter=',')\n",
    "# savetxt('csvs/y_val.csv', y_test, delimiter=',')\n",
    "\n",
    "# Save as binary for fastest and more efficient saving\n",
    "save('npys/x_train.npy', x_train)\n",
    "save('npys/y_train.npy', y_train)\n",
    "save('npys/x_test.npy', x_test)\n",
    "save('npys/y_test.npy', y_test)\n",
    "save('npys/x_val.npy', x_val)\n",
    "save('npys/y_val.npy', y_val)"
   ]
  }
 ],
 "metadata": {
  "kernelspec": {
   "display_name": "Python 3",
   "language": "python",
   "name": "python3"
  },
  "language_info": {
   "codemirror_mode": {
    "name": "ipython",
    "version": 3
   },
   "file_extension": ".py",
   "mimetype": "text/x-python",
   "name": "python",
   "nbconvert_exporter": "python",
   "pygments_lexer": "ipython3",
   "version": "3.8.6"
  }
 },
 "nbformat": 4,
 "nbformat_minor": 4
}
